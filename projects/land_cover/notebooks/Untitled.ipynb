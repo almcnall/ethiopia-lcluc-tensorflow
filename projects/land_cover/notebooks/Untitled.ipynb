{
 "cells": [
  {
   "cell_type": "markdown",
   "id": "d596a0b4",
   "metadata": {},
   "source": [
    "# Exploratory Data Analysis - Ethiopia LCLUC\n",
    "\n",
    "Initial imagery analysis."
   ]
  },
  {
   "cell_type": "code",
   "execution_count": 32,
   "id": "9dbe9676",
   "metadata": {},
   "outputs": [],
   "source": [
    "import os\n",
    "import glob\n",
    "import numpy as np\n",
    "import xarray as xr\n",
    "import rasterio as rio"
   ]
  },
  {
   "cell_type": "code",
   "execution_count": 33,
   "id": "4d1aa9da",
   "metadata": {},
   "outputs": [
    {
     "name": "stdout",
     "output_type": "stream",
     "text": [
      "Gonji_Kolela_All_2_SymDiff_SortLat_01_prj_selectS_ras.tif\r\n",
      "Gonji_Kolela_All_2_SymDiff_SortLat_01_prj_selectS_ras.tif.aux.xml\r\n",
      "Gonji_Kolela_All_2_SymDiff_SortLat_01_prj_v3r1m.tif\r\n",
      "Gonji_Kolela_All_2_SymDiff_SortLat_01_prj_v3r1m.tif.aux.xml\r\n",
      "Gonji_Kolela_All_2_SymDiff_SortLat_01_prj_v3r20cm.tif\r\n",
      "WV01_20090215_P1BS_1020010006856900-toa-clipped.tif\r\n",
      "WV01_20090215_P1BS_1020010006856900-toa.tif\r\n",
      "WV01_20100104_P1BS_102001000BE8BB00-toa-clipped.tif\r\n",
      "WV01_20100104_P1BS_102001000BE8BB00-toa.tif\r\n",
      "WV01_20141220_P1BS_1020010037B2E200-toa-clipped.tif\r\n",
      "WV01_20141220_P1BS_1020010037B2E200-toa.tif\r\n",
      "WV02_20100215_M1BS_10300100043A6100-toa-clipped.tif\r\n",
      "WV02_20100215_M1BS_10300100043A6100-toa.tif\r\n",
      "WV02_20100215_P1BS_10300100043A6100-toa-clipped.tif\r\n",
      "WV02_20100215_P1BS_10300100043A6100-toa.tif\r\n",
      "WV02_20101206_M1BS_10300100081AB200-toa-clipped.tif\r\n",
      "WV02_20101206_M1BS_10300100081AB200-toa.tif\r\n",
      "WV02_20101217_M1BS_1030010008D79900-toa-clipped.tif\r\n",
      "WV02_20101217_M1BS_1030010008D79900-toa.tif\r\n",
      "WV02_20101217_P1BS_1030010008D79900-toa-clipped.tif\r\n",
      "WV02_20101217_P1BS_1030010008D79900-toa.tif\r\n",
      "WV02_20110202_M1BS_1030010009B10200-toa-clipped.tif\r\n",
      "WV02_20110202_M1BS_1030010009B10200-toa.tif\r\n",
      "WV03_20180114_M1BS_1040010037AF5F00-toa-clipped.tif\r\n",
      "WV03_20180114_M1BS_1040010037AF5F00-toa.tif\r\n"
     ]
    }
   ],
   "source": [
    "data_path = '/Users/jacaraba/Desktop/development/ilab/ethiopia-lcluc/adapt-data'\n",
    "!ls /Users/jacaraba/Desktop/development/ilab/ethiopia-lcluc/adapt-data"
   ]
  },
  {
   "cell_type": "markdown",
   "id": "8e9c3404",
   "metadata": {},
   "source": [
    "## Labels\n",
    "\n",
    "Looking at labels dimensions and unique values."
   ]
  },
  {
   "cell_type": "code",
   "execution_count": 34,
   "id": "979ae2ae",
   "metadata": {},
   "outputs": [
    {
     "name": "stdout",
     "output_type": "stream",
     "text": [
      "Label shape: (1, 6564, 10817), Unique Values: [ 1  2  3  4  5  6 15]\n"
     ]
    }
   ],
   "source": [
    "label_filename = os.path.join(data_path, 'Gonji_Kolela_All_2_SymDiff_SortLat_01_prj_v3r1m.tif')\n",
    "label = xr.open_rasterio(label_filename).values\n",
    "print(f'Label shape: {label.shape}, Unique Values: {np.unique(label)}')"
   ]
  },
  {
   "cell_type": "markdown",
   "id": "d3c3942b",
   "metadata": {},
   "source": [
    "Based on this, class: 15 will be excluded at the time of generating the appropiate training dataset."
   ]
  },
  {
   "cell_type": "markdown",
   "id": "c468a264",
   "metadata": {},
   "source": [
    "## Imagery\n",
    "\n",
    "We need to find the corresponding imagery to match the labels. From Woubet:\n",
    "\n",
    "The land uses/cover are for the 2016 year. Generally, there is no much change from year to year for few years.\n",
    "But with longer time gap from 2016 (say 2020), croplands may encroach to shrublands, barelands, and forestlands.\n",
    "In this regard, we may encounter an issue in the image classification, since our input WorldView images are mainly in 2010. Not sure, if we should also consider other similar images.\n",
    "\n",
    "The project people exclude road and river networks from the people’s landholdings data, when they digitize the aerial photos. So, these networks are assigned with noData in the raster. I hope that will not create an issue in the classification.\n",
    "\n",
    "- Define exact dates we can use for \"similar area labels\" - number of years\n",
    "- Define class names 1-6\n",
    "- Define P1BS use, maybe with indices if we had matching bands\n",
    "\n",
    "Clip the imagery to the labels extent:\n",
    "\n",
    "```bash\n",
    "rio clip raster.tif output-raster.tif --like raster_label.tif\n",
    "```"
   ]
  },
  {
   "cell_type": "code",
   "execution_count": 35,
   "id": "b8e6f233",
   "metadata": {},
   "outputs": [],
   "source": [
    "raster_files = glob.glob(os.path.join(data_path, '*toa.tif'))"
   ]
  },
  {
   "cell_type": "code",
   "execution_count": 36,
   "id": "1efa3ebe",
   "metadata": {},
   "outputs": [],
   "source": [
    "for f in raster_files:\n",
    "    if not os.path.isfile(f'{f[:-4]}-clipped.tif'):\n",
    "        cmd = f'rio clip {f} {f[:-4]}-clipped.tif --like {label_filename}'\n",
    "        os.system(cmd)"
   ]
  },
  {
   "cell_type": "markdown",
   "id": "d9da1686",
   "metadata": {},
   "source": [
    "## Generate Configuration File\n",
    "\n",
    "Generate configuration file for Random Forest and CNN training."
   ]
  },
  {
   "cell_type": "code",
   "execution_count": 41,
   "id": "85a8e22c",
   "metadata": {},
   "outputs": [],
   "source": [
    "train_files = [\n",
    "    'WV02_20101206_M1BS_10300100081AB200-toa-clipped.tif',\n",
    "    'WV02_20110202_M1BS_1030010009B10200-toa-clipped.tif'\n",
    "]"
   ]
  },
  {
   "cell_type": "code",
   "execution_count": 43,
   "id": "fc910a45",
   "metadata": {},
   "outputs": [
    {
     "name": "stdout",
     "output_type": "stream",
     "text": [
      "/Users/jacaraba/Desktop/development/ilab/ethiopia-lcluc/adapt-data/WV02_20101206_M1BS_10300100081AB200-toa-clipped.tif (8, 3282, 2757)\n",
      "/Users/jacaraba/Desktop/development/ilab/ethiopia-lcluc/adapt-data/WV02_20110202_M1BS_1030010009B10200-toa-clipped.tif (8, 1684, 5061)\n"
     ]
    }
   ],
   "source": [
    "for f2 in train_files:\n",
    "    x = xr.open_rasterio(os.path.join(data_path, f2))\n",
    "    print(os.path.join(data_path, f2), x.shape)"
   ]
  },
  {
   "cell_type": "code",
   "execution_count": null,
   "id": "6c3435a3",
   "metadata": {},
   "outputs": [],
   "source": []
  }
 ],
 "metadata": {
  "kernelspec": {
   "display_name": "Python 3",
   "language": "python",
   "name": "python3"
  },
  "language_info": {
   "codemirror_mode": {
    "name": "ipython",
    "version": 3
   },
   "file_extension": ".py",
   "mimetype": "text/x-python",
   "name": "python",
   "nbconvert_exporter": "python",
   "pygments_lexer": "ipython3",
   "version": "3.8.10"
  }
 },
 "nbformat": 4,
 "nbformat_minor": 5
}
