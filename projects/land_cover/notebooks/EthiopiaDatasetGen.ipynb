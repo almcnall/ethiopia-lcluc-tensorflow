{
 "cells": [
  {
   "cell_type": "markdown",
   "id": "7f47a909",
   "metadata": {},
   "source": [
    "# Ethiopia Dataset Gen\n",
    "\n",
    "Generate and prepare Ethiopia Dataset"
   ]
  },
  {
   "cell_type": "code",
   "execution_count": 1,
   "id": "b13adb28",
   "metadata": {},
   "outputs": [],
   "source": [
    "import os\n",
    "import glob\n",
    "import xarray as xr\n",
    "import numpy as np\n",
    "import matplotlib as plt\n",
    "import pandas as pd\n",
    "from sklearn.utils import shuffle"
   ]
  },
  {
   "cell_type": "markdown",
   "id": "5935f6d5",
   "metadata": {},
   "source": [
    "## Define Variables"
   ]
  },
  {
   "cell_type": "code",
   "execution_count": 2,
   "id": "e1a25701",
   "metadata": {},
   "outputs": [],
   "source": [
    "nodata_val = -10001\n",
    "max_classes = 6\n",
    "bands = ['CB', 'B', 'G', 'Y', 'R', 'RE', 'NIR1', 'NIR2']\n",
    "dataset_metadata = {\n",
    "    'WV03_20141024_M1BS_1040010003ACA100-toa_Gonji_5class.tif': {\n",
    "        '0': 75000,\n",
    "        '1': 75000,\n",
    "        '2': 0,\n",
    "        '3': 825,\n",
    "        '4': 100000,\n",
    "        '5': 0,\n",
    "    },\n",
    "    'WV03_20141118_M1BS_1040010004D47B00-toa_Gonji_5class.tif': {\n",
    "        '0': 75000,\n",
    "        '1': 75000,\n",
    "        '2': 100000,\n",
    "        '3': 99725,\n",
    "        '4': 100000,\n",
    "        '5': 0,\n",
    "    },\n",
    "    'WV03_20141207_M1BS_10400100053C0600-toa_Gonji_5class.tif': {\n",
    "        '0': 75000,\n",
    "        '1': 75000,\n",
    "        '2': 100000,\n",
    "        '3': 99725,\n",
    "        '4': 100000,\n",
    "        '5': 0,\n",
    "    },\n",
    "    'WV03_20180114_M1BS_1040010037AF5F00-toa_Gonji_6class.tif': {\n",
    "        '0': 75000,\n",
    "        '1': 75000,\n",
    "        '2': 100000,\n",
    "        '3': 99725,\n",
    "        '4': 0,\n",
    "        '5': 300000,\n",
    "    },\n",
    "}"
   ]
  },
  {
   "cell_type": "markdown",
   "id": "528f22e5",
   "metadata": {},
   "source": [
    "## Define Data Location Paths"
   ]
  },
  {
   "cell_type": "code",
   "execution_count": 3,
   "id": "a180df83",
   "metadata": {},
   "outputs": [],
   "source": [
    "images_path: str = '/Users/jacaraba/Desktop/development/ilab/ethiopia-lcluc/adapt-data/data/images'\n",
    "labels_path: str = '/Users/jacaraba/Desktop/development/ilab/ethiopia-lcluc/adapt-data/data/labels'"
   ]
  },
  {
   "cell_type": "code",
   "execution_count": 4,
   "id": "725808db",
   "metadata": {},
   "outputs": [],
   "source": [
    "images_list: list = sorted(glob.glob(os.path.join(images_path, '*.tif')))\n",
    "labels_list: list = sorted(glob.glob(os.path.join(labels_path, '*.tif')))"
   ]
  },
  {
   "cell_type": "markdown",
   "id": "4061ebec",
   "metadata": {},
   "source": [
    "## Generate Dataset"
   ]
  },
  {
   "cell_type": "code",
   "execution_count": null,
   "id": "84289106",
   "metadata": {},
   "outputs": [
    {
     "name": "stdout",
     "output_type": "stream",
     "text": [
      "(8, 8069, 2484) (8069, 2484) [ 0  1  3  4 14] WV03_20141024_M1BS_1040010003ACA100-toa_Gonji_5class.tif\n",
      "Class 0: (15408517,) (15408517,)\n",
      "Class 1: (4131660,) (4131660,)\n",
      "Class 2: (0,) (0,)\n",
      "Class 3: (830,) (830,)\n",
      "Class 4: (481725,) (481725,)\n",
      "Class 5: (0,) (0,)\n",
      "(8, 8069, 8003) (8069, 8003) [ 0  1  2  3  4 14] WV03_20141118_M1BS_1040010004D47B00-toa_Gonji_5class.tif\n",
      "Class 0: (47905479,) (47905479,)\n",
      "Class 1: (14533773,) (14533773,)\n",
      "Class 2: (147723,) (147723,)\n",
      "Class 3: (206861,) (206861,)\n",
      "Class 4: (1715572,) (1715572,)\n"
     ]
    }
   ],
   "source": [
    "# create dataframe and list to store points\n",
    "list_points = []\n",
    "df_points = pd.DataFrame(columns=bands + ['CLASS'])\n",
    "    \n",
    "for image,label in zip(images_list, labels_list):\n",
    "    \n",
    "    # open imagery\n",
    "    filename = image.split('/')[-1]\n",
    "    image = xr.open_rasterio(image).values\n",
    "    label = xr.open_rasterio(label).values\n",
    "    \n",
    "    # Some preprocessing\n",
    "    label = np.squeeze(label) if len(label.shape) != 2 else label\n",
    "    label = label - 1 if np.min(label) == 1 else label\n",
    "    print(image.shape, label.shape, np.unique(label), filename)\n",
    "\n",
    "    for c in range(max_classes):\n",
    "\n",
    "        indices = 0\n",
    "        selected_points = 0\n",
    "        num_points = dataset_metadata[filename][str(c)]\n",
    "\n",
    "        x_indices, y_indices = np.where(label == c)  # we extract all class c points from the imagery\n",
    "        x_indices, y_indices = shuffle(x_indices, y_indices)  # we make sure values are fully shuffled\n",
    "        print(f\"Class {c}:\", x_indices.shape, y_indices.shape)\n",
    "\n",
    "        if x_indices.shape[0] != 0:\n",
    "        \n",
    "            while selected_points < num_points:\n",
    "                \n",
    "                sv, lv = image[:, x_indices[indices], y_indices[indices]], \\\n",
    "                    int(label[x_indices[indices], y_indices[indices]])\n",
    "\n",
    "                if sv[0] != nodata_val:\n",
    "                    \n",
    "                    list_points.append(\n",
    "                        pd.DataFrame(\n",
    "                            [np.append(sv, [lv])],\n",
    "                            columns=list(df_points.columns))\n",
    "                    )                    \n",
    "                    selected_points += 1\n",
    "                indices += 1\n",
    "\n",
    "df_points = pd.concat(list_points)\n",
    "print(df_points)"
   ]
  },
  {
   "cell_type": "code",
   "execution_count": null,
   "id": "f9574c64",
   "metadata": {},
   "outputs": [],
   "source": [
    "\"\"\"\n",
    "# ----------------------------------------------------------------------------\n",
    "        # 2. Extract points out of spatial imagery - rasters\n",
    "        # ----------------------------------------------------------------------------\n",
    "        # set empty dataframe to store point values\n",
    "        #list_points = []\n",
    "        #df_points = pd.DataFrame(columns=args.bands + ['CLASS'])\n",
    "        #logging.info(f\"Generating {data_df['ntiles'].sum()} points dataset.\")\n",
    "\n",
    "        # start iterating over each file\n",
    "        #for di in data_df.index:\n",
    "\n",
    "            # get filename for output purposes, in the future, add to column\n",
    "            #filename = data_df['data'][di].split('/')[-1]\n",
    "            #logging.info(f'Processing {filename}')\n",
    "\n",
    "            # read imagery from disk and process both image and mask\n",
    "            #img = xr.open_rasterio(data_df['data'][di]).values\n",
    "            #mask = xr.open_rasterio(data_df['label'][di]).values\n",
    "\n",
    "            # ------------------------------------------------------------------------\n",
    "            # Unique processing of this project - Start\n",
    "            # ------------------------------------------------------------------------\n",
    "            # squeeze mask if needed, start classes fro 0-n_classes\n",
    "            #mask = np.squeeze(mask) if len(mask.shape) != 2 else mask\n",
    "            #mask = mask - 1 if np.min(mask) == 1 else mask\n",
    "            # ------------------------------------------------------------------------\n",
    "            # Unique processing of this project - Done\n",
    "            # ------------------------------------------------------------------------\n",
    "\n",
    "            # crop ROI, from outside to inside based on pixel address\n",
    "            ymin, ymax = data_df['ymin'][di], data_df['ymax'][di]\n",
    "            xmin, xmax = data_df['xmin'][di], data_df['xmax'][di]\n",
    "            img, mask = \\\n",
    "                img[:, ymin:ymax, xmin:xmax], mask[ymin:ymax, xmin:xmax]\n",
    "\n",
    "            # crop ROI, from outside to inside based on pixel value\n",
    "            # img = np.clip(img, 0, 10000)\n",
    "\n",
    "            # get N points from imagery\n",
    "            points_per_class = data_df['ntiles'][di] // args.n_classes\n",
    "            #logging.info(f'Generating {points_per_class} points per class.')\n",
    "\n",
    "            # extract values from imagery, two classes\n",
    "            for cv in range(args.n_classes):\n",
    "\n",
    "                logging.info(f'Starting with class: {cv}')\n",
    "                bbox = img.shape  # size of the image\n",
    "                counter = 0  # counter for class balancing\n",
    "\n",
    "                while counter < points_per_class:\n",
    "\n",
    "                    # get indices and extract spectral and class value\n",
    "                    y, x = random.randrange(bbox[1]), random.randrange(bbox[2])\n",
    "                    sv, lv = img[:, y, x], int(mask[y, x])\n",
    "\n",
    "                    if lv == cv:\n",
    "                        # trying speed up here - looks like from list is faster\n",
    "                        list_points.append(\n",
    "                            pd.DataFrame(\n",
    "                                [np.append(sv, [lv])],\n",
    "                                columns=list(df_points.columns))\n",
    "                        )\n",
    "                        counter += 1\n",
    "\n",
    "        df_points = pd.concat(list_points)\n",
    "\n",
    "        # ----------------------------------------------------------------------------\n",
    "        # 3. Save file to disk\n",
    "        # ----------------------------------------------------------------------------\n",
    "        df_points.to_csv(args.train_csv, index=False)\n",
    "        logging.info(f'Saved dataset file {args.train_csv}')\n",
    "\"\"\""
   ]
  },
  {
   "cell_type": "code",
   "execution_count": null,
   "id": "0c4b2960",
   "metadata": {},
   "outputs": [],
   "source": []
  },
  {
   "cell_type": "code",
   "execution_count": null,
   "id": "a1798282",
   "metadata": {},
   "outputs": [],
   "source": []
  }
 ],
 "metadata": {
  "kernelspec": {
   "display_name": "Python 3 (ipykernel)",
   "language": "python",
   "name": "python3"
  },
  "language_info": {
   "codemirror_mode": {
    "name": "ipython",
    "version": 3
   },
   "file_extension": ".py",
   "mimetype": "text/x-python",
   "name": "python",
   "nbconvert_exporter": "python",
   "pygments_lexer": "ipython3",
   "version": "3.9.7"
  }
 },
 "nbformat": 4,
 "nbformat_minor": 5
}
