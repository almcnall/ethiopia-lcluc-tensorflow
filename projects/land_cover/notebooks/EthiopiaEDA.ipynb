{
 "cells": [
  {
   "cell_type": "markdown",
   "metadata": {},
   "source": [
    "# Ethiopia LCLUC - Exploratory Data Analysis (EDA)\n",
    "\n",
    "Initial imagery analysis.\n",
    "\n",
    "Authors: Jordan A. Caraballo-Vega <jorda.a.caraballo-vega@nasa.gov>, Woubet Alemu <woubet.g.alemu@nasa.gov>"
   ]
  },
  {
   "cell_type": "code",
   "execution_count": 32,
   "metadata": {},
   "outputs": [],
   "source": [
    "import os\n",
    "import glob\n",
    "import numpy as np\n",
    "import xarray as xr\n",
    "import rasterio as rio"
   ]
  },
  {
   "cell_type": "code",
   "execution_count": 33,
   "metadata": {},
   "outputs": [
    {
     "name": "stdout",
     "output_type": "stream",
     "text": [
      "Gonji_Kolela_All_2_SymDiff_SortLat_01_prj_selectS_ras.tif\n",
      "Gonji_Kolela_All_2_SymDiff_SortLat_01_prj_selectS_ras.tif.aux.xml\n",
      "Gonji_Kolela_All_2_SymDiff_SortLat_01_prj_v3r1m.tif\n",
      "Gonji_Kolela_All_2_SymDiff_SortLat_01_prj_v3r1m.tif.aux.xml\n",
      "Gonji_Kolela_All_2_SymDiff_SortLat_01_prj_v3r20cm.tif\n",
      "WV01_20090215_P1BS_1020010006856900-toa-clipped.tif\n",
      "WV01_20090215_P1BS_1020010006856900-toa.tif\n",
      "WV01_20100104_P1BS_102001000BE8BB00-toa-clipped.tif\n",
      "WV01_20100104_P1BS_102001000BE8BB00-toa.tif\n",
      "WV01_20141220_P1BS_1020010037B2E200-toa-clipped.tif\n",
      "WV01_20141220_P1BS_1020010037B2E200-toa.tif\n",
      "WV02_20100215_M1BS_10300100043A6100-toa-clipped.tif\n",
      "WV02_20100215_M1BS_10300100043A6100-toa.tif\n",
      "WV02_20100215_P1BS_10300100043A6100-toa-clipped.tif\n",
      "WV02_20100215_P1BS_10300100043A6100-toa.tif\n",
      "WV02_20101206_M1BS_10300100081AB200-toa-clipped.tif\n",
      "WV02_20101206_M1BS_10300100081AB200-toa.tif\n",
      "WV02_20101217_M1BS_1030010008D79900-toa-clipped.tif\n",
      "WV02_20101217_M1BS_1030010008D79900-toa.tif\n",
      "WV02_20101217_P1BS_1030010008D79900-toa-clipped.tif\n",
      "WV02_20101217_P1BS_1030010008D79900-toa.tif\n",
      "WV02_20110202_M1BS_1030010009B10200-toa-clipped.tif\n",
      "WV02_20110202_M1BS_1030010009B10200-toa.tif\n",
      "WV03_20180114_M1BS_1040010037AF5F00-toa-clipped.tif\n",
      "WV03_20180114_M1BS_1040010037AF5F00-toa.tif\n"
     ]
    }
   ],
   "source": [
    "# data_path = '/Users/jacaraba/Desktop/development/ilab/ethiopia-lcluc/adapt-data'\n",
    "ata_path ="
   ]
  },
  {
   "cell_type": "markdown",
   "metadata": {},
   "source": [
    "## Labels\n",
    "\n",
    "Looking at labels dimensions and unique values."
   ]
  },
  {
   "cell_type": "code",
   "execution_count": 34,
   "metadata": {},
   "outputs": [
    {
     "name": "stdout",
     "output_type": "stream",
     "text": [
      "Label shape: (1, 6564, 10817), Unique Values: [ 1  2  3  4  5  6 15]\n"
     ]
    }
   ],
   "source": [
    "label_filename = os.path.join(data_path, 'Gonji_Kolela_All_2_SymDiff_SortLat_01_prj_v3r1m.tif')\n",
    "label = xr.open_rasterio(label_filename).values\n",
    "print(f'Label shape: {label.shape}, Unique Values: {np.unique(label)}')"
   ]
  },
  {
   "cell_type": "markdown",
   "metadata": {},
   "source": [
    "Based on this, class: 15 will be excluded at the time of generating the appropiate training dataset."
   ]
  },
  {
   "cell_type": "markdown",
   "metadata": {},
   "source": [
    "## Imagery\n",
    "\n",
    "We need to find the corresponding imagery to match the labels. From Woubet:\n",
    "\n",
    "The land uses/cover are for the 2016 year. Generally, there is no much change from year to year for few years.\n",
    "But with longer time gap from 2016 (say 2020), croplands may encroach to shrublands, barelands, and forestlands.\n",
    "In this regard, we may encounter an issue in the image classification, since our input WorldView images are mainly in 2010. Not sure, if we should also consider other similar images.\n",
    "\n",
    "The project people exclude road and river networks from the people’s landholdings data, when they digitize the aerial photos. So, these networks are assigned with noData in the raster. I hope that will not create an issue in the classification.\n",
    "\n",
    "- Define exact dates we can use for \"similar area labels\" - number of years\n",
    "- Define class names 1-6\n",
    "- Define P1BS use, maybe with indices if we had matching bands\n",
    "\n",
    "Clip the imagery to the labels extent:\n",
    "\n",
    "```bash\n",
    "rio clip raster.tif output-raster.tif --like raster_label.tif\n",
    "```"
   ]
  },
  {
   "cell_type": "code",
   "execution_count": 35,
   "metadata": {},
   "outputs": [],
   "source": [
    "raster_files = glob.glob(os.path.join(data_path, '*toa.tif'))"
   ]
  },
  {
   "cell_type": "code",
   "execution_count": 36,
   "metadata": {},
   "outputs": [],
   "source": [
    "for f in raster_files:\n",
    "    if not os.path.isfile(f'{f[:-4]}-clipped.tif'):\n",
    "        cmd = f'rio clip {f} {f[:-4]}-clipped.tif --like {label_filename}'\n",
    "        os.system(cmd)"
   ]
  },
  {
   "cell_type": "markdown",
   "metadata": {},
   "source": [
    "## Generate Configuration File\n",
    "\n",
    "Generate configuration file for Random Forest and CNN training."
   ]
  },
  {
   "cell_type": "code",
   "execution_count": 41,
   "metadata": {},
   "outputs": [],
   "source": [
    "train_files = [\n",
    "    'WV02_20101206_M1BS_10300100081AB200-toa-clipped.tif',\n",
    "    'WV02_20110202_M1BS_1030010009B10200-toa-clipped.tif'\n",
    "]"
   ]
  },
  {
   "cell_type": "code",
   "execution_count": 43,
   "metadata": {},
   "outputs": [
    {
     "name": "stdout",
     "output_type": "stream",
     "text": [
      "/Users/jacaraba/Desktop/development/ilab/ethiopia-lcluc/adapt-data/WV02_20101206_M1BS_10300100081AB200-toa-clipped.tif (8, 3282, 2757)\n",
      "/Users/jacaraba/Desktop/development/ilab/ethiopia-lcluc/adapt-data/WV02_20110202_M1BS_1030010009B10200-toa-clipped.tif (8, 1684, 5061)\n"
     ]
    }
   ],
   "source": [
    "for f2 in train_files:\n",
    "    x = xr.open_rasterio(os.path.join(data_path, f2))\n",
    "    print(os.path.join(data_path, f2), x.shape)"
   ]
  },
  {
   "cell_type": "code",
   "execution_count": null,
   "metadata": {},
   "outputs": [],
   "source": []
  }
 ],
 "metadata": {
  "kernelspec": {
   "display_name": "Python 3",
   "language": "python",
   "name": "python3"
  },
  "language_info": {
   "codemirror_mode": {
    "name": "ipython",
    "version": 3
   },
   "file_extension": ".py",
   "mimetype": "text/x-python",
   "name": "python",
   "nbconvert_exporter": "python",
   "pygments_lexer": "ipython3",
   "version": "3.8.5"
  }
 },
 "nbformat": 4,
 "nbformat_minor": 5
}
