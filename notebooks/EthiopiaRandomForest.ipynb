{
 "cells": [
  {
   "cell_type": "markdown",
   "metadata": {},
   "source": [
    "# Ethiopia Random Forest Model\n",
    "\n",
    "## 1. Import Libraries"
   ]
  },
  {
   "cell_type": "code",
   "execution_count": null,
   "metadata": {},
   "outputs": [],
   "source": [
    "import os\n",
    "import gc\n",
    "import sys\n",
    "import glob\n",
    "import random\n",
    "import logging\n",
    "import argparse\n",
    "from tqdm import tqdm\n",
    "\n",
    "import joblib\n",
    "import numpy as np\n",
    "import xarray as xr\n",
    "import pandas as pd\n",
    "from osgeo import gdal, osr\n",
    "import rasterio as rio\n",
    "import rasterio.features as riofeat\n",
    "\n",
    "import cupy\n",
    "import cudf\n",
    "import cuml\n",
    "\n",
    "from cuml.ensemble import RandomForestClassifier as cumlRFC\n",
    "from cuml.model_selection import train_test_split\n",
    "from cuml.metrics import accuracy_score\n",
    "from cupyx.scipy.ndimage import median_filter\n",
    "\n",
    "cp.random.seed(seed=24)"
   ]
  },
  {
   "cell_type": "markdown",
   "metadata": {},
   "source": [
    "## Define Parameters\n",
    "\n",
    "In addition to the number of examples, random forest fitting performance depends heavily on the number of columns in a dataset and (especially) on the maximum depth to which trees are allowed to grow. Lower max_depth values can greatly speed up fitting, though going too low may reduce accuracy."
   ]
  },
  {
   "cell_type": "code",
   "execution_count": null,
   "metadata": {},
   "outputs": [],
   "source": [
    "pipeline_step = ['train', 'predict']"
   ]
  },
  {
   "cell_type": "code",
   "execution_count": null,
   "metadata": {},
   "outputs": [],
   "source": [
    "# Data parameters\n",
    "train_csv = '/att/pubrepo/ILAB/projects/Ethiopia/ethiopia-lcluc/data/random_forest/train_data.csv'\n",
    "seed = 24\n",
    "train_size = 0.80\n",
    "max_feat = 'log2'\n",
    "\n",
    "# Random Forest building parameters\n",
    "n_trees = 20\n",
    "max_feat = 'log2'\n",
    "max_depth = 24 # 12 - bad\n",
    "n_bins = 16\n",
    "n_trees = 10000"
   ]
  },
  {
   "cell_type": "markdown",
   "metadata": {},
   "source": [
    "## Read data csv file"
   ]
  },
  {
   "cell_type": "code",
   "execution_count": null,
   "metadata": {},
   "outputs": [],
   "source": [
    "assert os.path.exists(train_csv), f'{train_csv} not found.'\n",
    "data_df = cudf.read_csv(train_csv, sep=',')\n",
    "assert not data_df.isnull().values.any(), f'Na found: {train_csv}'\n",
    "print(data_df, type(data_df))"
   ]
  },
  {
   "cell_type": "markdown",
   "metadata": {},
   "source": [
    "## Shuffle and Split Dataset"
   ]
  },
  {
   "cell_type": "code",
   "execution_count": null,
   "metadata": {},
   "outputs": [],
   "source": [
    "data_df = data_df.sample(frac=1).reset_index(drop=True)"
   ]
  },
  {
   "cell_type": "code",
   "execution_count": null,
   "metadata": {},
   "outputs": [],
   "source": [
    "# dask_cudf does not support iloc operations, the objects gett converted to plain cudf\n",
    "x = data_df.iloc[:, :-1].astype(np.float32)\n",
    "y = data_df.iloc[:, -1].astype(np.int32)"
   ]
  },
  {
   "cell_type": "code",
   "execution_count": null,
   "metadata": {},
   "outputs": [],
   "source": [
    "X_train, X_test, y_train, y_test = train_test_split(x, y, train_size=train_size)\n",
    "del data_df, x, y\n",
    "print(f'X_train: {X_train.shape[0]} elements')\n",
    "print(f'X_test:  {X_test.shape[0]} elements')\n",
    "print(f'y_train: {y_train.shape[0]} elements')\n",
    "print(f'y_test:  {y_test.shape[0]} elements')"
   ]
  },
  {
   "cell_type": "markdown",
   "metadata": {},
   "source": [
    "## Train the distributed cuML model"
   ]
  },
  {
   "cell_type": "code",
   "execution_count": null,
   "metadata": {},
   "outputs": [],
   "source": [
    "%%time\n",
    "\n",
    "cuml_model = cumlRFC(n_estimators=n_trees, max_features=max_feat)\n",
    "cuml_model.fit(X_train, y_train)"
   ]
  },
  {
   "cell_type": "markdown",
   "metadata": {},
   "source": [
    "## Predict and Validate Accuracy"
   ]
  },
  {
   "cell_type": "code",
   "execution_count": null,
   "metadata": {},
   "outputs": [],
   "source": [
    "cuml_y_pred = cuml_model.predict(X_test)\n",
    "\n",
    "# Due to randomness in the algorithm, you may see slight variation in accuracies\n",
    "print(\"CuML accuracy:     \", accuracy_score(y_test, cuml_y_pred))"
   ]
  },
  {
   "cell_type": "code",
   "execution_count": null,
   "metadata": {},
   "outputs": [],
   "source": []
  },
  {
   "cell_type": "code",
   "execution_count": null,
   "metadata": {},
   "outputs": [],
   "source": []
  },
  {
   "cell_type": "code",
   "execution_count": null,
   "metadata": {},
   "outputs": [],
   "source": [
    "\"\"\"\n",
    "        # ------------------------------------------------------------------\n",
    "        # 3. Instantiate RandomForest object - FIX this area\n",
    "        # ------------------------------------------------------------------\n",
    "        if args.has_gpu:  # run using RAPIDS library\n",
    "\n",
    "            # initialize cudf data and log into GPU memory\n",
    "            logging.info('Training model via RAPIDS.')\n",
    "\n",
    "            # single gpu setup\n",
    "            x_train = cf.DataFrame.from_pandas(x_train)\n",
    "            x_test = cf.DataFrame.from_pandas(x_test)\n",
    "            y_train = cf.Series(y_train.values)\n",
    "            rf_funct = cumlRFC  # RF Classifier\n",
    "\n",
    "            # TODO: multi gpu setup\n",
    "            # https://github.com/rapidsai/cuml/blob/branch-21.12/notebooks/random_forest_mnmg_demo.ipynb\n",
    "            # cluster = LocalCUDACluster(\n",
    "            # threads_per_worker=1, n_workers=n_workers)\n",
    "            # c = Client(cluster)\n",
    "            # workers = c.has_what().keys()\n",
    "            # rf_funct = cumlRFC_mg\n",
    "\n",
    "\n",
    "        # ------------------------------------------------------------------\n",
    "        # 4. Fit Model\n",
    "        # ------------------------------------------------------------------\n",
    "        # fit model to training data and predict for accuracy score\n",
    "        rf_model.fit(x_train, y_train)\n",
    "\n",
    "        if args.has_gpu:\n",
    "            acc_score = accuracy_score(\n",
    "                y_test, rf_model.predict(x_test).to_array())\n",
    "            p_score = precision_score(\n",
    "                y_test, rf_model.predict(x_test).to_array(), average='macro')\n",
    "            r_score = recall_score(\n",
    "                y_test, rf_model.predict(x_test).to_array(), average='macro')\n",
    "            f_score = f1_score(\n",
    "                y_test, rf_model.predict(x_test).to_array(), average='macro')\n",
    "        else:\n",
    "            acc_score = accuracy_score(y_test, rf_model.predict(x_test))\n",
    "            p_score = precision_score(y_test, rf_model.predict(x_test), average='macro')\n",
    "            r_score = recall_score(y_test, rf_model.predict(x_test), average='macro')\n",
    "            f_score = f1_score(y_test, rf_model.predict(x_test), average='macro')\n",
    "\n",
    "        logging.info(f'Test Accuracy:  {acc_score}')\n",
    "        logging.info(f'Test Precision: {p_score}')\n",
    "        logging.info(f'Test Recall:    {r_score}')\n",
    "        logging.info(f'Test F-Score:   {f_score}')\n",
    "\n",
    "        # make output directory\n",
    "        os.makedirs(\n",
    "            os.path.dirname(os.path.realpath(args.output_pkl)), exist_ok=True)\n",
    "\n",
    "        # export model to file\n",
    "        try:\n",
    "            joblib.dump(rf_model, args.output_pkl)\n",
    "            logging.info(f'Model has been saved as {args.output_pkl}')\n",
    "        except Exception as e:\n",
    "            logging.error(f'ERROR: {e}')\n",
    "\"\"\""
   ]
  }
 ],
 "metadata": {
  "kernelspec": {
   "display_name": "Python [conda env:ilab-kernel]",
   "language": "python",
   "name": "conda-env-ilab-kernel-py"
  },
  "language_info": {
   "codemirror_mode": {
    "name": "ipython",
    "version": 3
   },
   "file_extension": ".py",
   "mimetype": "text/x-python",
   "name": "python",
   "nbconvert_exporter": "python",
   "pygments_lexer": "ipython3",
   "version": "3.7.10"
  }
 },
 "nbformat": 4,
 "nbformat_minor": 4
}
